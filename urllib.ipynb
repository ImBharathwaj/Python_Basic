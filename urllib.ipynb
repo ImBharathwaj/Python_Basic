{
 "cells": [
  {
   "cell_type": "code",
   "execution_count": null,
   "metadata": {},
   "outputs": [],
   "source": [
    "import urllib.request\n",
    "\n",
    "x = urllib.request.urlopen('https://www.google.com')\n",
    "print(x.read())"
   ]
  },
  {
   "cell_type": "code",
   "execution_count": null,
   "metadata": {},
   "outputs": [],
   "source": [
    "# used to parse values into the url\n",
    "import urllib.request\n",
    "import urllib.parse\n",
    "\n",
    "url = 'https://www.google.com/search?q=python'\n",
    "values = {'q':'python programming tutorial'}\n",
    "\n",
    "# parsing value as url encode\n",
    "data = urllib.parse.urlencode(values)\n",
    "data = data.encode('utf-8') # data should be bytes\n",
    "req = urllib.request.Request(url, data)\n",
    "resp = urllib.request.urlopen(req)\n",
    "respData = resp.read()\n",
    "\n",
    "print(respData)"
   ]
  },
  {
   "cell_type": "code",
   "execution_count": 13,
   "metadata": {},
   "outputs": [],
   "source": [
    "try:\n",
    "    x = urllib.request.urlopen(url)\n",
    "    headers = {}\n",
    "    # headers['User-Agent'] = 'Mozilla/5.0 (X11; Linux i686) AppleWebKit/537.17 (KHTML, like Gecko) Chrome/24.0.1312.27 Safari/537.17'\n",
    "\n",
    "    req = urllib.request.Request(url)\n",
    "    resp = urllib.request.urlopen(req)\n",
    "    respData = resp.read()\n",
    "    \n",
    "    saveFile = open('noheaders.txt', 'w')\n",
    "    saveFile.write(str(respData))\n",
    "    saveFile.close()\n",
    "except Exception as e:\n",
    "    print(str(e))"
   ]
  }
 ],
 "metadata": {
  "kernelspec": {
   "display_name": "Python 3.9.2 64-bit",
   "language": "python",
   "name": "python3"
  },
  "language_info": {
   "codemirror_mode": {
    "name": "ipython",
    "version": 3
   },
   "file_extension": ".py",
   "mimetype": "text/x-python",
   "name": "python",
   "nbconvert_exporter": "python",
   "pygments_lexer": "ipython3",
   "version": "3.9.2"
  },
  "orig_nbformat": 4,
  "vscode": {
   "interpreter": {
    "hash": "916dbcbb3f70747c44a77c7bcd40155683ae19c65e1c03b4aa3499c5328201f1"
   }
  }
 },
 "nbformat": 4,
 "nbformat_minor": 2
}
