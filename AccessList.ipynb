{
 "cells": [
  {
   "cell_type": "code",
   "execution_count": null,
   "id": "a9c8eb57-5788-4ba2-ad59-1a38d3c3f669",
   "metadata": {},
   "outputs": [],
   "source": [
    "lst = [1,2,3,4,5]\n",
    "print(lst[0])\n",
    "print(lst[1])\n",
    "print(lst[-1])\n",
    "print(lst[-2])\n",
    "print(lst[-5])"
   ]
  },
  {
   "cell_type": "code",
   "execution_count": null,
   "id": "8af64d0a-3535-487e-9577-b0642f41dd25",
   "metadata": {},
   "outputs": [],
   "source": [
    "print(lst[1:])\n",
    "print(lst[:3])\n",
    "print(lst[::2])\n",
    "print(lst[::-1])\n",
    "print(lst[-1:0:-1])"
   ]
  },
  {
   "cell_type": "code",
   "execution_count": null,
   "id": "94032473-3034-4e6b-aad3-b5635bdb420f",
   "metadata": {},
   "outputs": [],
   "source": [
    "reversed(lst)\n",
    "print(lst[0:2])"
   ]
  },
  {
   "cell_type": "markdown",
   "id": "da9b64e8-87cf-4c11-b56d-e5b7332a3b7a",
   "metadata": {},
   "source": [
    "Advanced Slicing"
   ]
  },
  {
   "cell_type": "code",
   "execution_count": null,
   "id": "dd4e3353-4539-4401-a1f3-3a31f36eefc2",
   "metadata": {},
   "outputs": [],
   "source": [
    "data = 'chandan purohit 22 2000'\n",
    "name=slice(0,16)\n",
    "age=slice(16,19)\n",
    "salary=slice(19, None)\n",
    "print(data[name])\n",
    "print(data[age])\n",
    "print(data[salary])"
   ]
  },
  {
   "cell_type": "code",
   "execution_count": null,
   "id": "2cb8fab5-b398-4416-a07b-fba2976df4ea",
   "metadata": {},
   "outputs": [],
   "source": [
    "lst = []\n",
    "if not lst:\n",
    "    print('List is empty')"
   ]
  },
  {
   "cell_type": "code",
   "execution_count": null,
   "id": "9403363b-f49c-4570-b932-a32664752587",
   "metadata": {},
   "outputs": [],
   "source": [
    "my_lst = ['foo', 'bar', 'baz']\n",
    "for item in my_lst:\n",
    "    print(item)"
   ]
  },
  {
   "cell_type": "code",
   "execution_count": null,
   "id": "0bf2de29-d2ce-444d-a549-b9145966bdda",
   "metadata": {},
   "outputs": [],
   "source": [
    "for(index, item) in enumerate(my_lst):\n",
    "    print('The item in position {} is {}'.format(index, item))"
   ]
  },
  {
   "cell_type": "code",
   "execution_count": null,
   "id": "7fb0fded-9e80-4027-ac6f-4ff2b47a4296",
   "metadata": {},
   "outputs": [],
   "source": [
    "for i in range(0, len(my_lst)):\n",
    "    print(my_lst[i])"
   ]
  },
  {
   "cell_type": "code",
   "execution_count": null,
   "id": "96057af5-9433-4074-ac83-12eafc178b0a",
   "metadata": {},
   "outputs": [],
   "source": [
    "for item in my_lst:\n",
    "    if item == 'foo':\n",
    "        del my_lst[0]\n",
    "    print(item)"
   ]
  },
  {
   "cell_type": "code",
   "execution_count": null,
   "id": "660a496a-52ae-431b-b9bc-ae1bf9cfebe9",
   "metadata": {},
   "outputs": [],
   "source": [
    "lst = ['test', 'twest', 'tweast', 'treast']\n",
    "'test' in lst\n",
    "'toast' in lst"
   ]
  },
  {
   "cell_type": "code",
   "execution_count": null,
   "id": "86a812c5-890f-4bf6-9c03-7def2b4c18ce",
   "metadata": {},
   "outputs": [],
   "source": [
    "slst = set(lst)\n",
    "'test' in slst"
   ]
  },
  {
   "cell_type": "markdown",
   "id": "6cbabadf-9491-4d01-8b88-487a373157f5",
   "metadata": {},
   "source": [
    "Any and All"
   ]
  },
  {
   "cell_type": "code",
   "execution_count": null,
   "id": "9fc0dded-ccae-41e2-96cf-46bb485e6726",
   "metadata": {},
   "outputs": [],
   "source": [
    "nums = [1, 1,0,1]\n",
    "all(nums)\n",
    "chars = ['a', 'b', 'c', 'd']\n",
    "all(chars)"
   ]
  },
  {
   "cell_type": "code",
   "execution_count": null,
   "id": "db864bab-ebbd-4df0-b3cd-36f356cf434f",
   "metadata": {},
   "outputs": [],
   "source": [
    "nums [ 1,1,0,1]\n",
    "any(nums)\n",
    "vals = [None, None, None, False]\n",
    "any(vals)"
   ]
  },
  {
   "cell_type": "markdown",
   "id": "6bd8e0f1-1a10-4b06-8487-e3fbedc18476",
   "metadata": {},
   "source": [
    "# "
   ]
  },
  {
   "cell_type": "code",
   "execution_count": 55,
   "id": "376a4a63-7f3b-4f63-8e17-0529e913dde7",
   "metadata": {},
   "outputs": [
    {
     "data": {
      "text/plain": [
       "True"
      ]
     },
     "execution_count": 55,
     "metadata": {},
     "output_type": "execute_result"
    }
   ],
   "source": [
    "vals = [1,2,3,4]\n",
    "any(val > 12 for val in vals)\n",
    "any((val*2) > 6 for val in vals)"
   ]
  },
  {
   "cell_type": "markdown",
   "id": "dd8b57e7-21f8-4e25-820c-5983e79d51f5",
   "metadata": {},
   "source": [
    "Reversing list elements"
   ]
  },
  {
   "cell_type": "code",
   "execution_count": 65,
   "id": "cda0bd1d-8a77-435f-a85b-0bf972bf871b",
   "metadata": {},
   "outputs": [
    {
     "data": {
      "text/plain": [
       "[0, 1, 2, 3, 4, 5, 6, 7, 8, 9]"
      ]
     },
     "execution_count": 65,
     "metadata": {},
     "output_type": "execute_result"
    }
   ],
   "source": [
    "numbers = list(range(0,10))\n",
    "rev = list(reversed(numbers))\n",
    "# for i in rev:\n",
    "#     print(i, end=', ')\n",
    "rev\n",
    "numbers"
   ]
  },
  {
   "cell_type": "markdown",
   "id": "8da6ec26-fb9a-40d5-ad9d-8e7822bac1bc",
   "metadata": {},
   "source": [
    "Concatenate and Merge lists"
   ]
  },
  {
   "cell_type": "code",
   "execution_count": 68,
   "id": "9c5eddb0-cb76-4cbb-95d9-e33064bbb700",
   "metadata": {},
   "outputs": [
    {
     "name": "stdout",
     "output_type": "stream",
     "text": [
      "a1 b1\n",
      "a2 b2\n",
      "a3 b3\n"
     ]
    }
   ],
   "source": [
    "alist = ['a1', 'a2', 'a3']\n",
    "blist = ['b1', 'b2', 'b3', 'b4']\n",
    "\n",
    "for a, b in zip(alist, blist):\n",
    "    print(a, b)"
   ]
  },
  {
   "cell_type": "code",
   "execution_count": 70,
   "id": "3b162ba2-9921-44e6-8774-e5e75c49260f",
   "metadata": {},
   "outputs": [
    {
     "name": "stdout",
     "output_type": "stream",
     "text": [
      "a1 b1 c1\n",
      "a2 None c2\n",
      "a3 None c3\n",
      "None None c4\n"
     ]
    }
   ],
   "source": [
    "import itertools\n",
    "\n",
    "alist = ['a1', 'a2', 'a3']\n",
    "blist = ['b1']\n",
    "clist = ['c1', 'c2', 'c3', 'c4']\n",
    "\n",
    "for a, b, c in itertools.zip_longest(alist, blist, clist):\n",
    "    print(a, b, c)"
   ]
  }
 ],
 "metadata": {
  "kernelspec": {
   "display_name": "Python 3 (ipykernel)",
   "language": "python",
   "name": "python3"
  },
  "language_info": {
   "codemirror_mode": {
    "name": "ipython",
    "version": 3
   },
   "file_extension": ".py",
   "mimetype": "text/x-python",
   "name": "python",
   "nbconvert_exporter": "python",
   "pygments_lexer": "ipython3",
   "version": "3.9.7"
  }
 },
 "nbformat": 4,
 "nbformat_minor": 5
}
